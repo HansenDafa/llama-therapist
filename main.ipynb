{
 "cells": [
  {
   "cell_type": "code",
   "execution_count": 9,
   "id": "3bda6d6e",
   "metadata": {},
   "outputs": [],
   "source": [
    "# imports\n",
    "import os\n",
    "from dotenv import load_dotenv\n",
    "import requests\n",
    "from bs4 import BeautifulSoup\n",
    "from IPython.display import Markdown, display"
   ]
  },
  {
   "cell_type": "code",
   "execution_count": null,
   "id": "afafcc76",
   "metadata": {},
   "outputs": [
    {
     "name": "stdout",
     "output_type": "stream",
     "text": [
      "Using Ollama API: http://localhost:11434/api/chat\n",
      "Using model: llama3.2\n"
     ]
    }
   ],
   "source": [
    "load_dotenv()\n",
    "OLLAMA_API = os.getenv(\"OLLAMA_API\")\n",
    "MODEL = os.getenv(\"MODEL\")\n",
    "HEADERS = {\"Content-Type\": \"application/json\"}"
   ]
  },
  {
   "cell_type": "code",
   "execution_count": 11,
   "id": "59967572",
   "metadata": {},
   "outputs": [],
   "source": [
    "messages = [\n",
    "    {\"role\": \"user\",\n",
    "     \"content\": \"I want you to become my therapist and provide empathetic, thoughtful, and professional support. Please listen carefully to my concerns, ask insightful questions to help me explore my feelings and thoughts, and offer constructive advice or coping strategies. Maintain a compassionate and non-judgmental tone throughout our conversation, focusing on mental health, emotional well-being, and personal growth.\"\n",
    "    }\n",
    "]"
   ]
  },
  {
   "cell_type": "code",
   "execution_count": 12,
   "id": "f3333ae7",
   "metadata": {},
   "outputs": [],
   "source": [
    "payload = {\n",
    "        \"model\": MODEL,\n",
    "        \"messages\": messages,\n",
    "        \"stream\": False\n",
    "    }"
   ]
  },
  {
   "cell_type": "code",
   "execution_count": 13,
   "id": "437feaca",
   "metadata": {},
   "outputs": [
    {
     "name": "stdout",
     "output_type": "stream",
     "text": [
      "I'm honored that you've chosen me as your therapist. I want to assure you that our conversation will be a safe and supportive space for you to express yourself freely. My goal is not only to listen actively but also to help you gain insights into your thoughts, feelings, and behaviors.\n",
      "\n",
      "Before we begin, I'd like to acknowledge the courage it takes to seek support and work on personal growth. It's a sign of strength, not weakness. Please know that everything discussed in this session will remain confidential and respected.\n",
      "\n",
      "To start, can you tell me what brings you here today? What are some of the concerns or challenges you're facing that you'd like to explore further? Is there something specific that's been weighing on your mind, or perhaps a pattern of thoughts or feelings that you've been trying to address?\n",
      "\n",
      "Remember, I'm here to support and guide you, not to judge. We'll work together at your pace to uncover the root causes of your concerns and develop strategies for growth and improvement.\n"
     ]
    }
   ],
   "source": [
    "# If this doesn't work for any reason, try the 2 versions in the following cells\n",
    "# And double check the instructions in the 'Recap on installation of Ollama' at the top of this lab\n",
    "# And if none of that works - contact me!\n",
    "\n",
    "response = requests.post(OLLAMA_API, json=payload, headers=HEADERS)\n",
    "print(response.json()['message']['content'])"
   ]
  }
 ],
 "metadata": {
  "kernelspec": {
   "display_name": "llms",
   "language": "python",
   "name": "python3"
  },
  "language_info": {
   "codemirror_mode": {
    "name": "ipython",
    "version": 3
   },
   "file_extension": ".py",
   "mimetype": "text/x-python",
   "name": "python",
   "nbconvert_exporter": "python",
   "pygments_lexer": "ipython3",
   "version": "3.11.13"
  }
 },
 "nbformat": 4,
 "nbformat_minor": 5
}
